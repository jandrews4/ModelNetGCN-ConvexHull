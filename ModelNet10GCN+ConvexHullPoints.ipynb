{
 "cells": [
  {
   "cell_type": "code",
   "execution_count": 1,
   "id": "2d63791b",
   "metadata": {},
   "outputs": [],
   "source": [
    "import os\n",
    "import numpy as np\n",
    "import torch\n",
    "import torch.nn as nn\n",
    "import torch.nn.functional as F\n",
    "import torch.optim as optim\n",
    "from torch_geometric.data import Data, InMemoryDataset, DataLoader\n",
    "from torch_geometric.nn import GCNConv, global_mean_pool\n",
    "from torch_geometric.transforms import NormalizeScale\n",
    "from torch_geometric.nn import knn_graph\n",
    "from scipy.spatial import ConvexHull\n",
    "from tqdm import tqdm\n",
    "import matplotlib.pyplot as plt"
   ]
  },
  {
   "cell_type": "code",
   "execution_count": 2,
   "id": "dbe9c4f9",
   "metadata": {},
   "outputs": [],
   "source": [
    "# Function to load .off files\n",
    "def load_off(file):\n",
    "    with open(file, 'r') as f:\n",
    "        lines = f.readlines()\n",
    "        if lines[0].strip() == 'OFF':\n",
    "            lines = lines[1:]\n",
    "        n_verts, n_faces, _ = map(int, lines[0].strip().split())\n",
    "        vertices = np.array([list(map(float, lines[i + 1].strip().split())) for i in range(n_verts)])\n",
    "        return vertices\n",
    "\n",
    "# Custom dataset class for ModelNet10\n",
    "class ModelNet10GraphDataset(InMemoryDataset):\n",
    "    def __init__(self, root, split='train', transform=None, pre_transform=None):\n",
    "        self.split = split\n",
    "        self.class_to_idx = self.get_class_to_idx(root)\n",
    "        super(ModelNet10GraphDataset, self).__init__(root, transform, pre_transform)\n",
    "        self.data, self.slices = torch.load(self.processed_paths[0])\n",
    "\n",
    "    @property\n",
    "    def raw_file_names(self):\n",
    "        return []\n",
    "\n",
    "    @property\n",
    "    def processed_file_names(self):\n",
    "        return [f'{self.split}_data.pt']\n",
    "\n",
    "    def process(self):\n",
    "        data_list = []\n",
    "        #root_dir = self.raw_dir\n",
    "\n",
    "        for cls in os.listdir(root_dir):\n",
    "            cls_dir = os.path.join(root_dir, cls)\n",
    "            if os.path.isdir(cls_dir):\n",
    "                for split in ['train', 'test']:\n",
    "                    split_dir = os.path.join(cls_dir, split)\n",
    "                    if os.path.isdir(split_dir):\n",
    "                        for file_name in os.listdir(split_dir):\n",
    "                            if file_name.endswith('.off'):\n",
    "                                file_path = os.path.join(split_dir, file_name)\n",
    "                                point_cloud = load_off(file_path)\n",
    "                                if len(point_cloud) > 1024:\n",
    "                                    point_cloud = point_cloud[np.random.choice(len(point_cloud), 1024, replace=False)]\n",
    "                                else:\n",
    "                                    point_cloud = point_cloud[np.random.choice(len(point_cloud), 1024, replace=True)]\n",
    "                                \n",
    "                                # Calculate convex hull\n",
    "                                hull = ConvexHull(point_cloud)\n",
    "                                hull_vertices = point_cloud[hull.vertices]\n",
    "\n",
    "                                # Combine point cloud and convex hull vertices\n",
    "                                combined_points = np.vstack((point_cloud, hull_vertices))\n",
    "\n",
    "                                pos = torch.tensor(combined_points, dtype=torch.float)\n",
    "                                y = torch.tensor([self.class_to_idx[cls]], dtype=torch.long)\n",
    "                                edge_index = knn_graph(pos, k=16)\n",
    "                                data = Data(pos=pos, edge_index=edge_index, y=y)\n",
    "                                data_list.append(data)\n",
    "        \n",
    "        if not data_list:\n",
    "            raise RuntimeError(\"No data found. Please check your dataset directory and file structure.\")\n",
    "        \n",
    "        data, slices = self.collate(data_list)\n",
    "        torch.save((data, slices), self.processed_paths[0])\n",
    "\n",
    "    def download(self):\n",
    "        pass\n",
    "\n",
    "    def get_class_to_idx(self, root_dir):\n",
    "        classes = ['bathtub', 'bed', 'chair', 'desk', 'dresser', 'monitor', 'night_stand', 'sofa', 'table', 'toilet']\n",
    "        class_to_idx = {cls: i for i, cls in enumerate(classes)}\n",
    "        return class_to_idx\n",
    "\n",
    "# Ensure the dataset structure is correct\n",
    "def verify_dataset_structure(root_dir):\n",
    "    classes = ['bathtub', 'bed', 'chair', 'desk', 'dresser', 'monitor', 'night_stand', 'sofa', 'table', 'toilet']\n",
    "    for cls in classes:\n",
    "        cls_dir = os.path.join(root_dir, cls)\n",
    "        if os.path.isdir(cls_dir):\n",
    "            train_dir = os.path.join(cls_dir, 'train')\n",
    "            test_dir = os.path.join(cls_dir, 'test')\n",
    "            if not os.path.isdir(train_dir) or not os.path.isdir(test_dir):\n",
    "                raise RuntimeError(f\"Expected 'train' and 'test' directories in {cls_dir}\")\n",
    "            print(f\"Found class: {cls} with 'train' and 'test' subdirectories.\")\n",
    "        else:\n",
    "            raise RuntimeError(f\"Expected directory for class {cls} in {root_dir}\")\n"
   ]
  },
  {
   "cell_type": "code",
   "execution_count": 3,
   "id": "a26fc13c",
   "metadata": {},
   "outputs": [
    {
     "name": "stdout",
     "output_type": "stream",
     "text": [
      "Found class: bathtub with 'train' and 'test' subdirectories.\n",
      "Found class: bed with 'train' and 'test' subdirectories.\n",
      "Found class: chair with 'train' and 'test' subdirectories.\n",
      "Found class: desk with 'train' and 'test' subdirectories.\n",
      "Found class: dresser with 'train' and 'test' subdirectories.\n",
      "Found class: monitor with 'train' and 'test' subdirectories.\n",
      "Found class: night_stand with 'train' and 'test' subdirectories.\n",
      "Found class: sofa with 'train' and 'test' subdirectories.\n",
      "Found class: table with 'train' and 'test' subdirectories.\n",
      "Found class: toilet with 'train' and 'test' subdirectories.\n"
     ]
    }
   ],
   "source": [
    "# Define data paths\n",
    "root_dir = 'C:/Users/Owner/Downloads/ModelNet10/ModelNet10'\n",
    "verify_dataset_structure(root_dir)\n",
    "\n",
    "train_dataset = ModelNet10GraphDataset(root=root_dir, split='train', pre_transform=NormalizeScale())\n",
    "test_dataset = ModelNet10GraphDataset(root=root_dir, split='test', pre_transform=NormalizeScale())\n"
   ]
  },
  {
   "cell_type": "code",
   "execution_count": 4,
   "id": "e13de66e",
   "metadata": {},
   "outputs": [
    {
     "name": "stderr",
     "output_type": "stream",
     "text": [
      "C:\\Users\\Owner\\AppData\\Local\\Programs\\Python\\Python310\\lib\\site-packages\\torch_geometric\\deprecation.py:26: UserWarning: 'data.DataLoader' is deprecated, use 'loader.DataLoader' instead\n",
      "  warnings.warn(out)\n"
     ]
    }
   ],
   "source": [
    "# Create data loaders\n",
    "train_loader = DataLoader(train_dataset, batch_size=32, shuffle=True)\n",
    "test_loader = DataLoader(test_dataset, batch_size=32, shuffle=False)\n"
   ]
  },
  {
   "cell_type": "code",
   "execution_count": 5,
   "id": "17b6b95d",
   "metadata": {},
   "outputs": [],
   "source": [
    "# GNN model definition\n",
    "class GCN(nn.Module):\n",
    "    def __init__(self, num_classes):\n",
    "        super(GCN, self).__init__()\n",
    "        self.conv1 = GCNConv(3, 64)\n",
    "        self.conv2 = GCNConv(64, 128)\n",
    "        self.conv3 = GCNConv(128, 256)\n",
    "        self.fc1 = nn.Linear(256, 128)\n",
    "        self.fc2 = nn.Linear(128, num_classes)\n",
    "\n",
    "    def forward(self, data):\n",
    "        x, edge_index, batch = data.pos, data.edge_index, data.batch\n",
    "        x = F.relu(self.conv1(x, edge_index))\n",
    "        x = F.relu(self.conv2(x, edge_index))\n",
    "        x = F.relu(self.conv3(x, edge_index))\n",
    "        x = global_mean_pool(x, batch)\n",
    "        x = F.relu(self.fc1(x))\n",
    "        x = self.fc2(x)\n",
    "        return F.log_softmax(x, dim=1)\n"
   ]
  },
  {
   "cell_type": "code",
   "execution_count": 9,
   "id": "822abaac",
   "metadata": {},
   "outputs": [
    {
     "name": "stderr",
     "output_type": "stream",
     "text": [
      "Epoch 1/50: 100%|███████████████████████████████████████| 154/154 [00:15<00:00, 10.06batch/s, accuracy=27.5, loss=3.29]\n"
     ]
    },
    {
     "name": "stdout",
     "output_type": "stream",
     "text": [
      "Epoch 1, Test Loss: 2.1771, Test Accuracy: 40.91%\n"
     ]
    },
    {
     "name": "stderr",
     "output_type": "stream",
     "text": [
      "Epoch 2/50: 100%|███████████████████████████████████████| 154/154 [00:16<00:00,  9.61batch/s, accuracy=37.4, loss=2.53]\n"
     ]
    },
    {
     "name": "stdout",
     "output_type": "stream",
     "text": [
      "Epoch 2, Test Loss: 4.5093, Test Accuracy: 20.98%\n"
     ]
    },
    {
     "name": "stderr",
     "output_type": "stream",
     "text": [
      "Epoch 3/50: 100%|███████████████████████████████████████| 154/154 [00:14<00:00, 10.36batch/s, accuracy=42.5, loss=2.61]\n"
     ]
    },
    {
     "name": "stdout",
     "output_type": "stream",
     "text": [
      "Epoch 3, Test Loss: 1.7630, Test Accuracy: 48.66%\n"
     ]
    },
    {
     "name": "stderr",
     "output_type": "stream",
     "text": [
      "Epoch 4/50: 100%|█████████████████████████████████████████| 154/154 [00:14<00:00, 10.36batch/s, accuracy=51, loss=1.77]\n"
     ]
    },
    {
     "name": "stdout",
     "output_type": "stream",
     "text": [
      "Epoch 4, Test Loss: 1.6112, Test Accuracy: 50.81%\n"
     ]
    },
    {
     "name": "stderr",
     "output_type": "stream",
     "text": [
      "Epoch 5/50: 100%|███████████████████████████████████████| 154/154 [00:14<00:00, 10.29batch/s, accuracy=55.9, loss=1.48]\n"
     ]
    },
    {
     "name": "stdout",
     "output_type": "stream",
     "text": [
      "Epoch 5, Test Loss: 1.2045, Test Accuracy: 62.93%\n"
     ]
    },
    {
     "name": "stderr",
     "output_type": "stream",
     "text": [
      "Epoch 6/50: 100%|███████████████████████████████████████| 154/154 [00:14<00:00, 10.32batch/s, accuracy=63.2, loss=1.25]\n"
     ]
    },
    {
     "name": "stdout",
     "output_type": "stream",
     "text": [
      "Epoch 6, Test Loss: 1.0872, Test Accuracy: 66.87%\n"
     ]
    },
    {
     "name": "stderr",
     "output_type": "stream",
     "text": [
      "Epoch 7/50: 100%|███████████████████████████████████████| 154/154 [00:15<00:00, 10.27batch/s, accuracy=69.8, loss=1.05]\n"
     ]
    },
    {
     "name": "stdout",
     "output_type": "stream",
     "text": [
      "Epoch 7, Test Loss: 0.9758, Test Accuracy: 70.65%\n"
     ]
    },
    {
     "name": "stderr",
     "output_type": "stream",
     "text": [
      "Epoch 8/50: 100%|██████████████████████████████████████| 154/154 [00:15<00:00,  9.96batch/s, accuracy=72.2, loss=0.919]\n"
     ]
    },
    {
     "name": "stdout",
     "output_type": "stream",
     "text": [
      "Epoch 8, Test Loss: 0.8730, Test Accuracy: 74.24%\n"
     ]
    },
    {
     "name": "stderr",
     "output_type": "stream",
     "text": [
      "Epoch 9/50: 100%|██████████████████████████████████████| 154/154 [00:14<00:00, 10.36batch/s, accuracy=74.2, loss=0.845]\n"
     ]
    },
    {
     "name": "stdout",
     "output_type": "stream",
     "text": [
      "Epoch 9, Test Loss: 0.8441, Test Accuracy: 72.83%\n"
     ]
    },
    {
     "name": "stderr",
     "output_type": "stream",
     "text": [
      "Epoch 10/50: 100%|█████████████████████████████████████| 154/154 [00:14<00:00, 10.37batch/s, accuracy=73.8, loss=0.845]\n"
     ]
    },
    {
     "name": "stdout",
     "output_type": "stream",
     "text": [
      "Epoch 10, Test Loss: 0.7923, Test Accuracy: 74.83%\n"
     ]
    },
    {
     "name": "stderr",
     "output_type": "stream",
     "text": [
      "Epoch 11/50: 100%|█████████████████████████████████████| 154/154 [00:14<00:00, 10.27batch/s, accuracy=76.2, loss=0.748]\n"
     ]
    },
    {
     "name": "stdout",
     "output_type": "stream",
     "text": [
      "Epoch 11, Test Loss: 0.7125, Test Accuracy: 77.10%\n"
     ]
    },
    {
     "name": "stderr",
     "output_type": "stream",
     "text": [
      "Epoch 12/50: 100%|█████████████████████████████████████| 154/154 [00:14<00:00, 10.28batch/s, accuracy=77.1, loss=0.711]\n"
     ]
    },
    {
     "name": "stdout",
     "output_type": "stream",
     "text": [
      "Epoch 12, Test Loss: 0.6583, Test Accuracy: 77.93%\n"
     ]
    },
    {
     "name": "stderr",
     "output_type": "stream",
     "text": [
      "Epoch 13/50: 100%|█████████████████████████████████████| 154/154 [00:14<00:00, 10.34batch/s, accuracy=78.7, loss=0.658]\n"
     ]
    },
    {
     "name": "stdout",
     "output_type": "stream",
     "text": [
      "Epoch 13, Test Loss: 0.6782, Test Accuracy: 77.69%\n"
     ]
    },
    {
     "name": "stderr",
     "output_type": "stream",
     "text": [
      "Epoch 14/50: 100%|█████████████████████████████████████| 154/154 [00:14<00:00, 10.35batch/s, accuracy=78.1, loss=0.725]\n"
     ]
    },
    {
     "name": "stdout",
     "output_type": "stream",
     "text": [
      "Epoch 14, Test Loss: 0.7709, Test Accuracy: 76.40%\n"
     ]
    },
    {
     "name": "stderr",
     "output_type": "stream",
     "text": [
      "Epoch 15/50: 100%|██████████████████████████████████████| 154/154 [00:15<00:00, 10.23batch/s, accuracy=73.2, loss=1.16]\n"
     ]
    },
    {
     "name": "stdout",
     "output_type": "stream",
     "text": [
      "Epoch 15, Test Loss: 1.4354, Test Accuracy: 70.83%\n"
     ]
    },
    {
     "name": "stderr",
     "output_type": "stream",
     "text": [
      "Epoch 16/50: 100%|██████████████████████████████████████| 154/154 [00:15<00:00,  9.71batch/s, accuracy=67.5, loss=1.59]\n"
     ]
    },
    {
     "name": "stdout",
     "output_type": "stream",
     "text": [
      "Epoch 16, Test Loss: 0.8623, Test Accuracy: 75.63%\n"
     ]
    },
    {
     "name": "stderr",
     "output_type": "stream",
     "text": [
      "Epoch 17/50: 100%|██████████████████████████████████████| 154/154 [00:14<00:00, 10.33batch/s, accuracy=71.2, loss=1.44]\n"
     ]
    },
    {
     "name": "stdout",
     "output_type": "stream",
     "text": [
      "Epoch 17, Test Loss: 1.2377, Test Accuracy: 66.16%\n"
     ]
    },
    {
     "name": "stderr",
     "output_type": "stream",
     "text": [
      "Epoch 18/50: 100%|█████████████████████████████████████| 154/154 [00:15<00:00, 10.25batch/s, accuracy=75.6, loss=0.818]\n"
     ]
    },
    {
     "name": "stdout",
     "output_type": "stream",
     "text": [
      "Epoch 18, Test Loss: 0.7403, Test Accuracy: 77.49%\n"
     ]
    },
    {
     "name": "stderr",
     "output_type": "stream",
     "text": [
      "Epoch 19/50: 100%|█████████████████████████████████████| 154/154 [00:15<00:00, 10.23batch/s, accuracy=77.6, loss=0.694]\n"
     ]
    },
    {
     "name": "stdout",
     "output_type": "stream",
     "text": [
      "Epoch 19, Test Loss: 0.6218, Test Accuracy: 79.32%\n"
     ]
    },
    {
     "name": "stderr",
     "output_type": "stream",
     "text": [
      "Epoch 20/50: 100%|█████████████████████████████████████| 154/154 [00:14<00:00, 10.32batch/s, accuracy=79.4, loss=0.633]\n"
     ]
    },
    {
     "name": "stdout",
     "output_type": "stream",
     "text": [
      "Epoch 20, Test Loss: 0.6249, Test Accuracy: 78.89%\n"
     ]
    },
    {
     "name": "stderr",
     "output_type": "stream",
     "text": [
      "Epoch 21/50: 100%|█████████████████████████████████████| 154/154 [00:14<00:00, 10.30batch/s, accuracy=79.5, loss=0.621]\n"
     ]
    },
    {
     "name": "stdout",
     "output_type": "stream",
     "text": [
      "Epoch 21, Test Loss: 0.5847, Test Accuracy: 81.22%\n"
     ]
    },
    {
     "name": "stderr",
     "output_type": "stream",
     "text": [
      "Epoch 22/50: 100%|█████████████████████████████████████| 154/154 [00:14<00:00, 10.32batch/s, accuracy=81.1, loss=0.596]\n"
     ]
    },
    {
     "name": "stdout",
     "output_type": "stream",
     "text": [
      "Epoch 22, Test Loss: 0.5675, Test Accuracy: 81.49%\n"
     ]
    },
    {
     "name": "stderr",
     "output_type": "stream",
     "text": [
      "Epoch 23/50: 100%|███████████████████████████████████████| 154/154 [00:14<00:00, 10.84batch/s, accuracy=81, loss=0.582]\n"
     ]
    },
    {
     "name": "stdout",
     "output_type": "stream",
     "text": [
      "Epoch 23, Test Loss: 0.5317, Test Accuracy: 82.32%\n"
     ]
    },
    {
     "name": "stderr",
     "output_type": "stream",
     "text": [
      "Epoch 24/50: 100%|█████████████████████████████████████| 154/154 [00:14<00:00, 10.75batch/s, accuracy=81.9, loss=0.568]\n"
     ]
    },
    {
     "name": "stdout",
     "output_type": "stream",
     "text": [
      "Epoch 24, Test Loss: 0.5456, Test Accuracy: 81.98%\n"
     ]
    },
    {
     "name": "stderr",
     "output_type": "stream",
     "text": [
      "Epoch 25/50: 100%|█████████████████████████████████████| 154/154 [00:15<00:00,  9.79batch/s, accuracy=82.1, loss=0.535]\n"
     ]
    },
    {
     "name": "stdout",
     "output_type": "stream",
     "text": [
      "Epoch 25, Test Loss: 0.5422, Test Accuracy: 81.38%\n"
     ]
    },
    {
     "name": "stderr",
     "output_type": "stream",
     "text": [
      "Epoch 26/50: 100%|█████████████████████████████████████| 154/154 [00:14<00:00, 10.34batch/s, accuracy=82.2, loss=0.533]\n"
     ]
    },
    {
     "name": "stdout",
     "output_type": "stream",
     "text": [
      "Epoch 26, Test Loss: 0.5233, Test Accuracy: 83.45%\n"
     ]
    },
    {
     "name": "stderr",
     "output_type": "stream",
     "text": [
      "Epoch 27/50: 100%|█████████████████████████████████████| 154/154 [00:14<00:00, 10.28batch/s, accuracy=81.7, loss=0.565]\n"
     ]
    },
    {
     "name": "stdout",
     "output_type": "stream",
     "text": [
      "Epoch 27, Test Loss: 0.6733, Test Accuracy: 82.67%\n"
     ]
    },
    {
     "name": "stderr",
     "output_type": "stream",
     "text": [
      "Epoch 28/50: 100%|█████████████████████████████████████| 154/154 [00:14<00:00, 10.34batch/s, accuracy=80.4, loss=0.783]\n"
     ]
    },
    {
     "name": "stdout",
     "output_type": "stream",
     "text": [
      "Epoch 28, Test Loss: 0.8562, Test Accuracy: 76.34%\n"
     ]
    },
    {
     "name": "stderr",
     "output_type": "stream",
     "text": [
      "Epoch 29/50: 100%|█████████████████████████████████████| 154/154 [00:14<00:00, 10.35batch/s, accuracy=79.9, loss=0.703]\n"
     ]
    },
    {
     "name": "stdout",
     "output_type": "stream",
     "text": [
      "Epoch 29, Test Loss: 0.5335, Test Accuracy: 82.51%\n"
     ]
    },
    {
     "name": "stderr",
     "output_type": "stream",
     "text": [
      "Epoch 30/50: 100%|█████████████████████████████████████| 154/154 [00:15<00:00, 10.27batch/s, accuracy=80.6, loss=0.695]\n"
     ]
    },
    {
     "name": "stdout",
     "output_type": "stream",
     "text": [
      "Epoch 30, Test Loss: 4.8563, Test Accuracy: 62.54%\n"
     ]
    },
    {
     "name": "stderr",
     "output_type": "stream",
     "text": [
      "Epoch 31/50: 100%|████████████████████████████████████████| 154/154 [00:14<00:00, 10.33batch/s, accuracy=59, loss=4.66]\n"
     ]
    },
    {
     "name": "stdout",
     "output_type": "stream",
     "text": [
      "Epoch 31, Test Loss: 1.3488, Test Accuracy: 68.75%\n"
     ]
    },
    {
     "name": "stderr",
     "output_type": "stream",
     "text": [
      "Epoch 32/50: 100%|███████████████████████████████████████| 154/154 [00:15<00:00, 10.23batch/s, accuracy=68.9, loss=1.5]\n"
     ]
    },
    {
     "name": "stdout",
     "output_type": "stream",
     "text": [
      "Epoch 32, Test Loss: 0.8133, Test Accuracy: 76.67%\n"
     ]
    },
    {
     "name": "stderr",
     "output_type": "stream",
     "text": [
      "Epoch 33/50: 100%|█████████████████████████████████████| 154/154 [00:14<00:00, 10.33batch/s, accuracy=76.9, loss=0.802]\n"
     ]
    },
    {
     "name": "stdout",
     "output_type": "stream",
     "text": [
      "Epoch 33, Test Loss: 0.7131, Test Accuracy: 77.87%\n"
     ]
    },
    {
     "name": "stderr",
     "output_type": "stream",
     "text": [
      "Epoch 34/50: 100%|██████████████████████████████████████| 154/154 [00:15<00:00, 10.02batch/s, accuracy=78.8, loss=0.66]\n"
     ]
    },
    {
     "name": "stdout",
     "output_type": "stream",
     "text": [
      "Epoch 34, Test Loss: 0.5945, Test Accuracy: 80.42%\n"
     ]
    },
    {
     "name": "stderr",
     "output_type": "stream",
     "text": [
      "Epoch 35/50: 100%|█████████████████████████████████████| 154/154 [00:15<00:00,  9.89batch/s, accuracy=80.8, loss=0.605]\n"
     ]
    },
    {
     "name": "stdout",
     "output_type": "stream",
     "text": [
      "Epoch 35, Test Loss: 0.6341, Test Accuracy: 78.36%\n"
     ]
    },
    {
     "name": "stderr",
     "output_type": "stream",
     "text": [
      "Epoch 36/50: 100%|█████████████████████████████████████| 154/154 [00:16<00:00,  9.57batch/s, accuracy=81.2, loss=0.584]\n"
     ]
    },
    {
     "name": "stdout",
     "output_type": "stream",
     "text": [
      "Epoch 36, Test Loss: 0.5268, Test Accuracy: 82.34%\n"
     ]
    },
    {
     "name": "stderr",
     "output_type": "stream",
     "text": [
      "Epoch 37/50: 100%|██████████████████████████████████████| 154/154 [00:16<00:00,  9.58batch/s, accuracy=77.6, loss=1.11]\n"
     ]
    },
    {
     "name": "stdout",
     "output_type": "stream",
     "text": [
      "Epoch 37, Test Loss: 2.5601, Test Accuracy: 71.08%\n"
     ]
    },
    {
     "name": "stderr",
     "output_type": "stream",
     "text": [
      "Epoch 38/50: 100%|██████████████████████████████████████| 154/154 [00:16<00:00,  9.56batch/s, accuracy=76.5, loss=1.03]\n"
     ]
    },
    {
     "name": "stdout",
     "output_type": "stream",
     "text": [
      "Epoch 38, Test Loss: 0.9111, Test Accuracy: 76.46%\n"
     ]
    },
    {
     "name": "stderr",
     "output_type": "stream",
     "text": [
      "Epoch 39/50: 100%|███████████████████████████████████████| 154/154 [00:16<00:00,  9.57batch/s, accuracy=79, loss=0.768]\n"
     ]
    },
    {
     "name": "stdout",
     "output_type": "stream",
     "text": [
      "Epoch 39, Test Loss: 0.5849, Test Accuracy: 81.06%\n"
     ]
    },
    {
     "name": "stderr",
     "output_type": "stream",
     "text": [
      "Epoch 40/50: 100%|█████████████████████████████████████| 154/154 [00:16<00:00,  9.57batch/s, accuracy=81.9, loss=0.577]\n"
     ]
    },
    {
     "name": "stdout",
     "output_type": "stream",
     "text": [
      "Epoch 40, Test Loss: 0.5280, Test Accuracy: 82.63%\n"
     ]
    },
    {
     "name": "stderr",
     "output_type": "stream",
     "text": [
      "Epoch 41/50: 100%|█████████████████████████████████████| 154/154 [00:16<00:00,  9.55batch/s, accuracy=83.1, loss=0.518]\n"
     ]
    },
    {
     "name": "stdout",
     "output_type": "stream",
     "text": [
      "Epoch 41, Test Loss: 0.4825, Test Accuracy: 84.02%\n"
     ]
    },
    {
     "name": "stderr",
     "output_type": "stream",
     "text": [
      "Epoch 42/50: 100%|█████████████████████████████████████| 154/154 [00:16<00:00,  9.57batch/s, accuracy=83.5, loss=0.492]\n"
     ]
    },
    {
     "name": "stdout",
     "output_type": "stream",
     "text": [
      "Epoch 42, Test Loss: 0.4648, Test Accuracy: 84.69%\n"
     ]
    },
    {
     "name": "stderr",
     "output_type": "stream",
     "text": [
      "Epoch 43/50: 100%|█████████████████████████████████████| 154/154 [00:16<00:00,  9.56batch/s, accuracy=84.1, loss=0.475]\n"
     ]
    },
    {
     "name": "stdout",
     "output_type": "stream",
     "text": [
      "Epoch 43, Test Loss: 0.4414, Test Accuracy: 85.43%\n"
     ]
    },
    {
     "name": "stderr",
     "output_type": "stream",
     "text": [
      "Epoch 44/50: 100%|█████████████████████████████████████| 154/154 [00:16<00:00,  9.53batch/s, accuracy=85.1, loss=0.453]\n"
     ]
    },
    {
     "name": "stdout",
     "output_type": "stream",
     "text": [
      "Epoch 44, Test Loss: 0.4373, Test Accuracy: 85.10%\n"
     ]
    },
    {
     "name": "stderr",
     "output_type": "stream",
     "text": [
      "Epoch 45/50: 100%|█████████████████████████████████████| 154/154 [00:16<00:00,  9.56batch/s, accuracy=83.6, loss=0.489]\n"
     ]
    },
    {
     "name": "stdout",
     "output_type": "stream",
     "text": [
      "Epoch 45, Test Loss: 0.4525, Test Accuracy: 84.81%\n"
     ]
    },
    {
     "name": "stderr",
     "output_type": "stream",
     "text": [
      "Epoch 46/50: 100%|█████████████████████████████████████| 154/154 [00:15<00:00,  9.77batch/s, accuracy=85.1, loss=0.464]\n"
     ]
    },
    {
     "name": "stdout",
     "output_type": "stream",
     "text": [
      "Epoch 46, Test Loss: 0.5050, Test Accuracy: 85.08%\n"
     ]
    },
    {
     "name": "stderr",
     "output_type": "stream",
     "text": [
      "Epoch 47/50: 100%|██████████████████████████████████████| 154/154 [00:16<00:00,  9.41batch/s, accuracy=85.2, loss=0.46]\n"
     ]
    },
    {
     "name": "stdout",
     "output_type": "stream",
     "text": [
      "Epoch 47, Test Loss: 0.4357, Test Accuracy: 85.20%\n"
     ]
    },
    {
     "name": "stderr",
     "output_type": "stream",
     "text": [
      "Epoch 48/50: 100%|█████████████████████████████████████| 154/154 [00:16<00:00,  9.40batch/s, accuracy=85.5, loss=0.426]\n"
     ]
    },
    {
     "name": "stdout",
     "output_type": "stream",
     "text": [
      "Epoch 48, Test Loss: 0.4070, Test Accuracy: 86.75%\n"
     ]
    },
    {
     "name": "stderr",
     "output_type": "stream",
     "text": [
      "Epoch 49/50: 100%|███████████████████████████████████████| 154/154 [00:16<00:00,  9.45batch/s, accuracy=86, loss=0.425]\n"
     ]
    },
    {
     "name": "stdout",
     "output_type": "stream",
     "text": [
      "Epoch 49, Test Loss: 0.4175, Test Accuracy: 86.61%\n"
     ]
    },
    {
     "name": "stderr",
     "output_type": "stream",
     "text": [
      "Epoch 50/50: 100%|█████████████████████████████████████| 154/154 [00:16<00:00,  9.38batch/s, accuracy=86.1, loss=0.428]\n"
     ]
    },
    {
     "name": "stdout",
     "output_type": "stream",
     "text": [
      "Epoch 50, Test Loss: 0.3888, Test Accuracy: 87.04%\n",
      "Finished Training\n"
     ]
    }
   ],
   "source": [
    "# Define model, loss function, and optimizer\n",
    "num_classes = len(train_dataset.class_to_idx)\n",
    "model = GCN(num_classes).cuda()\n",
    "criterion = nn.CrossEntropyLoss()\n",
    "optimizer = optim.Adam(model.parameters(), lr=0.001)\n",
    "\n",
    "# Training loop with progress bar and data tracking\n",
    "num_epochs = 50\n",
    "train_losses = []\n",
    "train_accuracies = []\n",
    "test_losses = []\n",
    "test_accuracies = []\n",
    "\n",
    "for epoch in range(num_epochs):\n",
    "    model.train()\n",
    "    running_loss = 0.0\n",
    "    correct = 0\n",
    "    total = 0\n",
    "    \n",
    "    train_bar = tqdm(train_loader, desc=f\"Epoch {epoch + 1}/{num_epochs}\", unit=\"batch\")\n",
    "    for data in train_bar:\n",
    "        data = data.to('cuda')\n",
    "\n",
    "        optimizer.zero_grad()\n",
    "        outputs = model(data)\n",
    "        loss = criterion(outputs, data.y)\n",
    "        loss.backward()\n",
    "        optimizer.step()\n",
    "\n",
    "        running_loss += loss.item()\n",
    "        _, predicted = torch.max(outputs.data, 1)\n",
    "        total += data.y.size(0)\n",
    "        correct += (predicted == data.y).sum().item()\n",
    "        \n",
    "        train_bar.set_postfix(loss=running_loss / (total / 32), accuracy=100. * correct / total)\n",
    "\n",
    "    train_losses.append(running_loss / len(train_loader))\n",
    "    train_accuracies.append(100. * correct / total)\n",
    "    \n",
    "    # Evaluate on the test set\n",
    "    model.eval()\n",
    "    test_loss = 0.0\n",
    "    correct = 0\n",
    "    total = 0\n",
    "    with torch.no_grad():\n",
    "        for data in test_loader:\n",
    "            data = data.to('cuda')\n",
    "            outputs = model(data)\n",
    "            loss = criterion(outputs, data.y)\n",
    "            test_loss += loss.item()\n",
    "            _, predicted = torch.max(outputs.data, 1)\n",
    "            total += data.y.size(0)\n",
    "            correct += (predicted == data.y).sum().item()\n",
    "\n",
    "    test_losses.append(test_loss / len(test_loader))\n",
    "    test_accuracies.append(100. * correct / total)\n",
    "    print(f\"Epoch {epoch + 1}, Test Loss: {test_loss / len(test_loader):.4f}, Test Accuracy: {100. * correct / total:.2f}%\")\n",
    "\n",
    "print('Finished Training')"
   ]
  },
  {
   "cell_type": "code",
   "execution_count": 10,
   "id": "35df2fe4",
   "metadata": {},
   "outputs": [
    {
     "data": {
      "image/png": "[encoded data removed]",
      "text/plain": [
       "<Figure size 640x480 with 1 Axes>"
      ]
     },
     "metadata": {},
     "output_type": "display_data"
    },
    {
     "data": {
      "image/png": "[encoded data removed]",
      "text/plain": [
       "<Figure size 640x480 with 1 Axes>"
      ]
     },
     "metadata": {},
     "output_type": "display_data"
    }
   ],
   "source": [
    "# Plot accuracy and loss vs epoch\n",
    "epochs = range(1, num_epochs + 1)\n",
    "\n",
    "plt.figure()\n",
    "plt.plot(epochs, train_losses, 'r', label='Training loss')\n",
    "plt.plot(epochs, test_losses, 'b', label='Test loss')\n",
    "plt.title('Loss vs Epoch')\n",
    "plt.xlabel('Epoch')\n",
    "plt.ylabel('Loss')\n",
    "plt.legend()\n",
    "plt.show()\n",
    "\n",
    "plt.figure()\n",
    "plt.plot(epochs, train_accuracies, 'r', label='Training accuracy')\n",
    "plt.plot(epochs, test_accuracies, 'b', label='Test accuracy')\n",
    "plt.title('Accuracy vs Epoch')\n",
    "plt.xlabel('Epoch')\n",
    "plt.ylabel('Accuracy')\n",
    "plt.legend()\n",
    "plt.show()"
   ]
  },
  {
   "cell_type": "code",
   "execution_count": null,
   "id": "f548fdb0",
   "metadata": {},
   "outputs": [],
   "source": []
  }
 ],
 "metadata": {
  "kernelspec": {
   "display_name": "Python 3 (ipykernel)",
   "language": "python",
   "name": "python3"
  },
  "language_info": {
   "codemirror_mode": {
    "name": "ipython",
    "version": 3
   },
   "file_extension": ".py",
   "mimetype": "text/x-python",
   "name": "python",
   "nbconvert_exporter": "python",
   "pygments_lexer": "ipython3",
   "version": "3.10.2"
  }
 },
 "nbformat": 4,
 "nbformat_minor": 5
}
